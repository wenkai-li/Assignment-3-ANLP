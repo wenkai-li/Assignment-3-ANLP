{
 "cells": [
  {
   "cell_type": "code",
   "execution_count": 21,
   "metadata": {},
   "outputs": [],
   "source": [
    "import pandas as pd\n",
    "from sklearn.metrics import f1_score, classification_report\n"
   ]
  },
  {
   "cell_type": "code",
   "execution_count": 22,
   "metadata": {},
   "outputs": [],
   "source": [
    "con = pd.read_csv(\"essay_test_zero_psycot_3_con.csv\")\n",
    "con = con[['gold','answers']]"
   ]
  },
  {
   "cell_type": "code",
   "execution_count": 23,
   "metadata": {},
   "outputs": [],
   "source": [
    "def modify(new_a):\n",
    "    new_a = new_a.replace('.*A.*',0, regex=True)\n",
    "    new_a = new_a.replace('.*B.*',1, regex=True)\n",
    "    return new_a\n",
    "con = modify(con)"
   ]
  },
  {
   "cell_type": "code",
   "execution_count": 24,
   "metadata": {},
   "outputs": [
    {
     "name": "stdout",
     "output_type": "stream",
     "text": [
      "              precision    recall  f1-score   support\n",
      "\n",
      "           0     0.4938    0.5896    0.5374       134\n",
      "           1     0.3678    0.2832    0.3200       113\n",
      "\n",
      "    accuracy                         0.4494       247\n",
      "   macro avg     0.4308    0.4364    0.4287       247\n",
      "weighted avg     0.4361    0.4494    0.4379       247\n",
      "\n"
     ]
    }
   ],
   "source": [
    "print(classification_report(con['gold'], con['answers'], digits=4))"
   ]
  }
 ],
 "metadata": {
  "kernelspec": {
   "display_name": "llama2",
   "language": "python",
   "name": "python3"
  },
  "language_info": {
   "codemirror_mode": {
    "name": "ipython",
    "version": 3
   },
   "file_extension": ".py",
   "mimetype": "text/x-python",
   "name": "python",
   "nbconvert_exporter": "python",
   "pygments_lexer": "ipython3",
   "version": "3.9.17"
  },
  "orig_nbformat": 4
 },
 "nbformat": 4,
 "nbformat_minor": 2
}
